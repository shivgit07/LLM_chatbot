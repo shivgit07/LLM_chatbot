{
  "nbformat": 4,
  "nbformat_minor": 0,
  "metadata": {
    "colab": {
      "provenance": [],
      "gpuType": "T4"
    },
    "kernelspec": {
      "name": "python3",
      "display_name": "Python 3"
    },
    "language_info": {
      "name": "python"
    },
    "accelerator": "GPU"
  },
  "cells": [
    {
      "cell_type": "markdown",
      "source": [
        "# EE782: AML Project\n",
        "# IITB SmartBot"
      ],
      "metadata": {
        "id": "bpOOdKB1ntAH"
      }
    },
    {
      "cell_type": "markdown",
      "source": [
        "Dhatri Mehta 210070027</br>\n",
        "Devesh Soni 21D070025</br>\n",
        "Shivansh Gupta 21D070067"
      ],
      "metadata": {
        "id": "JKeuFoeLntdf"
      }
    },
    {
      "cell_type": "markdown",
      "source": [
        "## Packages and Libraries"
      ],
      "metadata": {
        "id": "3LIlUgXYni4v"
      }
    },
    {
      "cell_type": "code",
      "source": [
        "## This was just to check the status and usage of compute unit of GPU\n",
        "!nvidia-smi"
      ],
      "metadata": {
        "colab": {
          "base_uri": "https://localhost:8080/"
        },
        "id": "AFZMjbPtyXl8",
        "outputId": "44ee5c07-6cbc-4f44-d8a0-a02f51b0a947"
      },
      "execution_count": null,
      "outputs": [
        {
          "output_type": "stream",
          "name": "stdout",
          "text": [
            "Thu Nov 30 10:32:59 2023       \n",
            "+-----------------------------------------------------------------------------+\n",
            "| NVIDIA-SMI 525.105.17   Driver Version: 525.105.17   CUDA Version: 12.0     |\n",
            "|-------------------------------+----------------------+----------------------+\n",
            "| GPU  Name        Persistence-M| Bus-Id        Disp.A | Volatile Uncorr. ECC |\n",
            "| Fan  Temp  Perf  Pwr:Usage/Cap|         Memory-Usage | GPU-Util  Compute M. |\n",
            "|                               |                      |               MIG M. |\n",
            "|===============================+======================+======================|\n",
            "|   0  Tesla T4            Off  | 00000000:00:04.0 Off |                    0 |\n",
            "| N/A   62C    P8    11W /  70W |      0MiB / 15360MiB |      0%      Default |\n",
            "|                               |                      |                  N/A |\n",
            "+-------------------------------+----------------------+----------------------+\n",
            "                                                                               \n",
            "+-----------------------------------------------------------------------------+\n",
            "| Processes:                                                                  |\n",
            "|  GPU   GI   CI        PID   Type   Process name                  GPU Memory |\n",
            "|        ID   ID                                                   Usage      |\n",
            "|=============================================================================|\n",
            "|  No running processes found                                                 |\n",
            "+-----------------------------------------------------------------------------+\n"
          ]
        }
      ]
    },
    {
      "cell_type": "code",
      "execution_count": null,
      "metadata": {
        "id": "eQlQ4ZWgcXDW",
        "colab": {
          "base_uri": "https://localhost:8080/"
        },
        "outputId": "2305bec2-382f-4df4-c601-85d70130fe01"
      },
      "outputs": [
        {
          "output_type": "stream",
          "name": "stdout",
          "text": [
            "\u001b[33mWARNING: Running pip as the 'root' user can result in broken permissions and conflicting behaviour with the system package manager. It is recommended to use a virtual environment instead: https://pip.pypa.io/warnings/venv\u001b[0m\u001b[33m\n",
            "\u001b[0m\u001b[31mERROR: pip's dependency resolver does not currently take into account all the packages that are installed. This behaviour is the source of the following dependency conflicts.\n",
            "torchaudio 2.1.0+cu118 requires torch==2.1.0, but you have torch 2.0.1 which is incompatible.\n",
            "torchdata 0.7.0 requires torch==2.1.0, but you have torch 2.0.1 which is incompatible.\n",
            "torchtext 0.16.0 requires torch==2.1.0, but you have torch 2.0.1 which is incompatible.\n",
            "torchvision 0.16.0+cu118 requires torch==2.1.0, but you have torch 2.0.1 which is incompatible.\u001b[0m\u001b[31m\n",
            "\u001b[0m\u001b[33mWARNING: Running pip as the 'root' user can result in broken permissions and conflicting behaviour with the system package manager. It is recommended to use a virtual environment instead: https://pip.pypa.io/warnings/venv\u001b[0m\u001b[33m\n",
            "\u001b[0m\u001b[33mWARNING: Running pip as the 'root' user can result in broken permissions and conflicting behaviour with the system package manager. It is recommended to use a virtual environment instead: https://pip.pypa.io/warnings/venv\u001b[0m\u001b[33m\n",
            "\u001b[0m\u001b[33mWARNING: Running pip as the 'root' user can result in broken permissions and conflicting behaviour with the system package manager. It is recommended to use a virtual environment instead: https://pip.pypa.io/warnings/venv\u001b[0m\u001b[33m\n",
            "\u001b[0m\u001b[33mWARNING: Running pip as the 'root' user can result in broken permissions and conflicting behaviour with the system package manager. It is recommended to use a virtual environment instead: https://pip.pypa.io/warnings/venv\u001b[0m\u001b[33m\n",
            "\u001b[0m\u001b[33mWARNING: Running pip as the 'root' user can result in broken permissions and conflicting behaviour with the system package manager. It is recommended to use a virtual environment instead: https://pip.pypa.io/warnings/venv\u001b[0m\u001b[33m\n",
            "\u001b[0m\u001b[33mWARNING: Running pip as the 'root' user can result in broken permissions and conflicting behaviour with the system package manager. It is recommended to use a virtual environment instead: https://pip.pypa.io/warnings/venv\u001b[0m\u001b[33m\n",
            "\u001b[0m\u001b[31mERROR: pip's dependency resolver does not currently take into account all the packages that are installed. This behaviour is the source of the following dependency conflicts.\n",
            "xformers 0.0.20 requires torch==2.0.1, but you have torch 2.1.0 which is incompatible.\u001b[0m\u001b[31m\n",
            "\u001b[0m\u001b[33mWARNING: Running pip as the 'root' user can result in broken permissions and conflicting behaviour with the system package manager. It is recommended to use a virtual environment instead: https://pip.pypa.io/warnings/venv\u001b[0m\u001b[33m\n",
            "\u001b[0m\u001b[33mWARNING: Running pip as the 'root' user can result in broken permissions and conflicting behaviour with the system package manager. It is recommended to use a virtual environment instead: https://pip.pypa.io/warnings/venv\u001b[0m\u001b[33m\n",
            "\u001b[0m\u001b[33mWARNING: Running pip as the 'root' user can result in broken permissions and conflicting behaviour with the system package manager. It is recommended to use a virtual environment instead: https://pip.pypa.io/warnings/venv\u001b[0m\u001b[33m\n",
            "\u001b[0m"
          ]
        }
      ],
      "source": [
        "# This code installs specific versions of various Python packages using pip, suppressing progress bars for a cleaner output\n",
        "\n",
        "!pip install -Uqqq pip --progress-bar off\n",
        "!pip install -qqq torch==2.0.1 --progress-bar off\n",
        "!pip install -qqq transformers==4.31.0 --progress-bar off\n",
        "!pip install -qqq langchain==0.0.266 --progress-bar off\n",
        "!pip install -qqq chromadb==0.4.5 --progress-bar off\n",
        "!pip install -qqq pypdf==3.15.0 --progress-bar off\n",
        "!pip install -qqq xformers==0.0.20 --progress-bar off\n",
        "!pip install -qqq sentence_transformers==2.2.2 --progress-bar off\n",
        "!pip install -qqq InstructorEmbedding==1.0.1 --progress-bar off\n",
        "!pip install -qqq pdf2image==1.16.3 --progress-bar off"
      ]
    },
    {
      "cell_type": "markdown",
      "source": [
        "Binary wheel files in Python are pre-built distributions of a package that can be easily installed on a compatible system without the need for compilation. They play a crucial role in simplifying the installation process and improving the efficiency of package distribution. For our model we are downloading a AUTOGPTQ BWF file package"
      ],
      "metadata": {
        "id": "QPBtTlTem3LK"
      }
    },
    {
      "cell_type": "code",
      "source": [
        "#using the wget command to download a binary wheel file\n",
        "#The file being downloaded is \"auto_gptq-0.4.1+cu118-cp310-cp310-linux_x86_64.whl,\"  related to a AutoGPTQ model\n",
        "\n",
        "!wget -q https://github.com/PanQiWei/AutoGPTQ/releases/download/v0.4.1/auto_gptq-0.4.1+cu118-cp310-cp310-linux_x86_64.whl"
      ],
      "metadata": {
        "id": "ecTRR8hwhn0C"
      },
      "execution_count": null,
      "outputs": []
    },
    {
      "cell_type": "code",
      "source": [
        "!pip install -qqq auto_gptq-0.4.1+cu118-cp310-cp310-linux_x86_64.whl --progress-bar off"
      ],
      "metadata": {
        "colab": {
          "base_uri": "https://localhost:8080/"
        },
        "id": "C0_Fa50LkfoB",
        "outputId": "ec2881e5-7fcd-43a0-843a-be58450e879a"
      },
      "execution_count": null,
      "outputs": [
        {
          "output_type": "stream",
          "name": "stdout",
          "text": [
            "\u001b[33mWARNING: Running pip as the 'root' user can result in broken permissions and conflicting behaviour with the system package manager. It is recommended to use a virtual environment instead: https://pip.pypa.io/warnings/venv\u001b[0m\u001b[33m\n",
            "\u001b[0m"
          ]
        }
      ]
    },
    {
      "cell_type": "code",
      "source": [
        "!apt-get update"
      ],
      "metadata": {
        "colab": {
          "base_uri": "https://localhost:8080/"
        },
        "id": "BpfpTk4SO-XU",
        "outputId": "65f31919-5c0d-406b-f07a-daa0973ed052"
      },
      "execution_count": null,
      "outputs": [
        {
          "output_type": "stream",
          "name": "stdout",
          "text": [
            "\r0% [Working]\r            \rHit:1 https://cloud.r-project.org/bin/linux/ubuntu jammy-cran40/ InRelease\n",
            "Hit:2 https://developer.download.nvidia.com/compute/cuda/repos/ubuntu2204/x86_64  InRelease\n",
            "Hit:3 http://archive.ubuntu.com/ubuntu jammy InRelease\n",
            "Hit:4 http://archive.ubuntu.com/ubuntu jammy-updates InRelease\n",
            "Hit:5 http://archive.ubuntu.com/ubuntu jammy-backports InRelease\n",
            "Hit:6 http://security.ubuntu.com/ubuntu jammy-security InRelease\n",
            "Hit:7 https://ppa.launchpadcontent.net/c2d4u.team/c2d4u4.0+/ubuntu jammy InRelease\n",
            "Hit:8 https://ppa.launchpadcontent.net/deadsnakes/ppa/ubuntu jammy InRelease\n",
            "Hit:9 https://ppa.launchpadcontent.net/graphics-drivers/ppa/ubuntu jammy InRelease\n",
            "Hit:10 https://ppa.launchpadcontent.net/ubuntugis/ppa/ubuntu jammy InRelease\n",
            "Reading package lists... Done\n"
          ]
        }
      ]
    },
    {
      "cell_type": "code",
      "source": [
        "!apt-get install poppler-utils"
      ],
      "metadata": {
        "colab": {
          "base_uri": "https://localhost:8080/"
        },
        "id": "7eUqwK5HPDox",
        "outputId": "4844a010-aab3-4b4d-fd6b-b0d1c0f4bc8f"
      },
      "execution_count": null,
      "outputs": [
        {
          "output_type": "stream",
          "name": "stdout",
          "text": [
            "Reading package lists... Done\n",
            "Building dependency tree... Done\n",
            "Reading state information... Done\n",
            "poppler-utils is already the newest version (22.02.0-2ubuntu0.3).\n",
            "0 upgraded, 0 newly installed, 0 to remove and 19 not upgraded.\n"
          ]
        }
      ]
    },
    {
      "cell_type": "code",
      "source": [
        "!sudo apt-get install poppler-utils"
      ],
      "metadata": {
        "id": "t7ShwfeTubDU",
        "colab": {
          "base_uri": "https://localhost:8080/"
        },
        "outputId": "ec60c9f4-0320-4b51-e339-4589b6746693"
      },
      "execution_count": null,
      "outputs": [
        {
          "output_type": "stream",
          "name": "stdout",
          "text": [
            "Reading package lists... Done\n",
            "Building dependency tree... Done\n",
            "Reading state information... Done\n",
            "poppler-utils is already the newest version (22.02.0-2ubuntu0.3).\n",
            "0 upgraded, 0 newly installed, 0 to remove and 19 not upgraded.\n"
          ]
        }
      ]
    },
    {
      "cell_type": "code",
      "source": [
        "## importing various libraries required for our LLM\n",
        "import torch\n",
        "from auto_gptq import AutoGPTQForCausalLM\n",
        "from langchain import HuggingFacePipeline, PromptTemplate\n",
        "from langchain.chains import RetrievalQA\n",
        "from langchain.document_loaders import PyPDFDirectoryLoader\n",
        "from langchain.embeddings import HuggingFaceInstructEmbeddings\n",
        "from langchain.text_splitter import RecursiveCharacterTextSplitter\n",
        "from langchain.vectorstores import Chroma\n",
        "from pdf2image import convert_from_path\n",
        "from transformers import AutoTokenizer, TextStreamer, pipeline\n",
        "\n",
        "DEVICE = \"cuda:0\" if torch.cuda.is_available() else \"cpu\""
      ],
      "metadata": {
        "id": "vH5IpjeNflMU"
      },
      "execution_count": null,
      "outputs": []
    },
    {
      "cell_type": "markdown",
      "source": [
        "## Data"
      ],
      "metadata": {
        "id": "jiX57tzWOJAg"
      }
    },
    {
      "cell_type": "markdown",
      "source": [
        "### The below code show how our pdf looks like"
      ],
      "metadata": {
        "id": "JwObEE0GJELD"
      }
    },
    {
      "cell_type": "code",
      "source": [
        "scraped_data_images = convert_from_path(\"/content/Scraped_data/Final_data.pdf\", dpi=88)\n",
        "scraped_data_images[0]"
      ],
      "metadata": {
        "colab": {
          "base_uri": "https://localhost:8080/",
          "height": 986
        },
        "id": "a9X4Fbv8ugOW",
        "outputId": "c792e917-e4c4-4906-8097-740d9c6680b0"
      },
      "execution_count": null,
      "outputs": [
        {
          "output_type": "execute_result",
          "data": {
            "text/plain": [
              "<PIL.PpmImagePlugin.PpmImageFile image mode=RGB size=749x969>"
            ],
            "image/png": "[encoded data removed]"
          },
          "metadata": {},
          "execution_count": 9
        }
      ]
    },
    {
      "cell_type": "code",
      "source": [
        "!rm -rf \"db\""
      ],
      "metadata": {
        "id": "0A_9bQ7-N3d6"
      },
      "execution_count": null,
      "outputs": []
    },
    {
      "cell_type": "code",
      "source": [
        "## loading the pdf file\n",
        "loader = PyPDFDirectoryLoader(\"/content/Scraped_data\")\n",
        "docs = loader.load()\n",
        "len(docs)                        # number of pages in the pdf"
      ],
      "metadata": {
        "id": "RQmhREpeOInh",
        "colab": {
          "base_uri": "https://localhost:8080/"
        },
        "outputId": "860ce5df-1c0b-49e6-b424-aed76b2c1bb3"
      },
      "execution_count": null,
      "outputs": [
        {
          "output_type": "execute_result",
          "data": {
            "text/plain": [
              "82"
            ]
          },
          "metadata": {},
          "execution_count": 11
        }
      ]
    },
    {
      "cell_type": "code",
      "source": [
        "##  this code is setting up an embedding generator using the Hugging Face \"instructor-large\" model\n",
        "embeddings = HuggingFaceInstructEmbeddings(\n",
        "    model_name=\"hkunlp/instructor-large\", model_kwargs={\"device\": DEVICE}\n",
        ")"
      ],
      "metadata": {
        "id": "wjJ0DI9MRNkT",
        "colab": {
          "base_uri": "https://localhost:8080/"
        },
        "outputId": "c8e551a3-3778-46b4-d32b-bf6b4022ef8b"
      },
      "execution_count": null,
      "outputs": [
        {
          "output_type": "stream",
          "name": "stdout",
          "text": [
            "load INSTRUCTOR_Transformer\n",
            "max_seq_length  512\n"
          ]
        }
      ]
    },
    {
      "cell_type": "markdown",
      "source": [
        "This code is using a recursive character-based text splitter to divide a collection of documents into smaller chunks of text\n",
        "One chunk contains 1024 words and each chunk has an overlap of 64 words with successive and predecessor chunk. This help to form a proper connection between differnet chunks helping the model to learn efficiently."
      ],
      "metadata": {
        "id": "xnWxaUR0rXfw"
      }
    },
    {
      "cell_type": "code",
      "source": [
        "# this code is using a recursive character-based text splitter to divide a collection of documents into smaller chunks of text\n",
        "\n",
        "text_splitter = RecursiveCharacterTextSplitter(chunk_size=1024, chunk_overlap=64)\n",
        "texts = text_splitter.split_documents(docs)\n",
        "len(texts)"
      ],
      "metadata": {
        "id": "yFztsob3WO3x",
        "colab": {
          "base_uri": "https://localhost:8080/"
        },
        "outputId": "9216d5df-a9cc-4f62-ef10-2a60344991e1"
      },
      "execution_count": null,
      "outputs": [
        {
          "output_type": "execute_result",
          "data": {
            "text/plain": [
              "164"
            ]
          },
          "metadata": {},
          "execution_count": 13
        }
      ]
    },
    {
      "cell_type": "markdown",
      "source": [
        "**Chroma** is an open-source embedding database that is used to store and manage embeddings. </br>\n",
        "This code creates a Chroma object by calling the from_documents method. The method takes texts (a list of text chunks created above), embeddings (hkunlp/HuggingFace), and persist_directory=\"db\""
      ],
      "metadata": {
        "id": "Hd15a3c7sOeI"
      }
    },
    {
      "cell_type": "code",
      "source": [
        "db = Chroma.from_documents(texts, embeddings, persist_directory=\"db\")"
      ],
      "metadata": {
        "id": "ESFJOOYEWTX9"
      },
      "execution_count": null,
      "outputs": []
    },
    {
      "cell_type": "markdown",
      "source": [
        "## Llama 2 13B"
      ],
      "metadata": {
        "id": "GcylvlF60r_m"
      }
    },
    {
      "cell_type": "markdown",
      "source": [
        "This code snippet is initializing a language model using the Hugging Face Transformers library</br>\n",
        "The pre-trained language model we are using is **TheBloke/Llama-2**-13B-chat-GPTQ.</br>\n",
        "The model variable now holds an instance of the **GPTQ language model** ready for use for our Q&A tasks."
      ],
      "metadata": {
        "id": "5AHDHhAltgPS"
      }
    },
    {
      "cell_type": "code",
      "source": [
        "model_name_or_path = \"TheBloke/Llama-2-13B-chat-GPTQ\"\n",
        "model_basename = \"model\"\n",
        "\n",
        "#  initializes a tokenizer using the AutoTokenizer\n",
        "tokenizer = AutoTokenizer.from_pretrained(model_name_or_path, use_fast=True)\n",
        "\n",
        "# This initializes the GPTQ (Quantized GPT) language model using the AutoGPTQForCausalLM class\n",
        "# The from_quantized method is used to load a quantized version of the model, which we have downloaded above as a binary wheel file\n",
        "model = AutoGPTQForCausalLM.from_quantized(\n",
        "    model_name_or_path,\n",
        "    revision=\"gptq-4bit-128g-actorder_True\",\n",
        "    model_basename=model_basename,\n",
        "    use_safetensors=True,\n",
        "    trust_remote_code=True,\n",
        "    inject_fused_attention=False,\n",
        "    device=DEVICE,\n",
        "    quantize_config=None,\n",
        ")"
      ],
      "metadata": {
        "id": "DrSTLMQbfjFp",
        "colab": {
          "base_uri": "https://localhost:8080/"
        },
        "outputId": "68792769-0468-4b37-e056-b8136b506505"
      },
      "execution_count": null,
      "outputs": [
        {
          "output_type": "stream",
          "name": "stderr",
          "text": [
            "WARNING:auto_gptq.nn_modules.fused_llama_mlp:skip module injection for FusedLlamaMLPForQuantizedModel not support integrate without triton yet.\n"
          ]
        }
      ]
    },
    {
      "cell_type": "code",
      "source": [
        "## This was just to check the status and usage of compute unit of GPU\n",
        "!nvidia-smi"
      ],
      "metadata": {
        "id": "k6yLtagJfvG4",
        "colab": {
          "base_uri": "https://localhost:8080/"
        },
        "outputId": "6763e7fd-f09f-4b5f-b659-740bc811cd19"
      },
      "execution_count": null,
      "outputs": [
        {
          "output_type": "stream",
          "name": "stdout",
          "text": [
            "Thu Nov 30 10:37:10 2023       \n",
            "+-----------------------------------------------------------------------------+\n",
            "| NVIDIA-SMI 525.105.17   Driver Version: 525.105.17   CUDA Version: 12.0     |\n",
            "|-------------------------------+----------------------+----------------------+\n",
            "| GPU  Name        Persistence-M| Bus-Id        Disp.A | Volatile Uncorr. ECC |\n",
            "| Fan  Temp  Perf  Pwr:Usage/Cap|         Memory-Usage | GPU-Util  Compute M. |\n",
            "|                               |                      |               MIG M. |\n",
            "|===============================+======================+======================|\n",
            "|   0  Tesla T4            Off  | 00000000:00:04.0 Off |                    0 |\n",
            "| N/A   58C    P0    37W /  70W |   9593MiB / 15360MiB |     60%      Default |\n",
            "|                               |                      |                  N/A |\n",
            "+-------------------------------+----------------------+----------------------+\n",
            "                                                                               \n",
            "+-----------------------------------------------------------------------------+\n",
            "| Processes:                                                                  |\n",
            "|  GPU   GI   CI        PID   Type   Process name                  GPU Memory |\n",
            "|        ID   ID                                                   Usage      |\n",
            "|=============================================================================|\n",
            "+-----------------------------------------------------------------------------+\n"
          ]
        }
      ]
    },
    {
      "cell_type": "markdown",
      "source": [
        "This is **System Prompt** structure which we have designed for use in a context to guide the behavior of our language model with specific instructions while taking into account user prompts."
      ],
      "metadata": {
        "id": "BjRk9jG_0On1"
      }
    },
    {
      "cell_type": "code",
      "source": [
        "\n",
        "DEFAULT_SYSTEM_PROMPT = \"\"\"\n",
        "You are a helpful, respectful and honest assistant. Always answer as helpfully as possible, while being safe. Your answers should not include any harmful, unethical, racist, sexist, toxic, dangerous, or illegal content. Please ensure that your responses are socially unbiased and positive in nature.\n",
        "\n",
        "If a question does not make any sense, or is not factually coherent, explain why instead of answering something not correct. If you don't know the answer to a question, please don't share false information.\n",
        "\"\"\".strip()\n",
        "\n",
        "def generate_prompt(prompt: str, system_prompt: str = DEFAULT_SYSTEM_PROMPT) -> str:\n",
        "    return f\"\"\"\n",
        "[INST] <<SYS>>\n",
        "{system_prompt}\n",
        "<</SYS>>\n",
        "\n",
        "{prompt} [/INST]\n",
        "\"\"\".strip()"
      ],
      "metadata": {
        "id": "NKUo_0gxRD-a"
      },
      "execution_count": null,
      "outputs": []
    },
    {
      "cell_type": "markdown",
      "source": [
        "The **TextStreamer** class is a utility class from the transformers library that is used to stream the output of a language model during generation. This can be useful for applications where you want to display the generated text as it is being produced, or for collecting the output of the model without waiting for the entire generation to finish."
      ],
      "metadata": {
        "id": "5VaSrEj01Rx1"
      }
    },
    {
      "cell_type": "code",
      "source": [
        "streamer = TextStreamer(tokenizer, skip_prompt=True, skip_special_tokens=True)"
      ],
      "metadata": {
        "id": "5H6rPBpEAALY"
      },
      "execution_count": null,
      "outputs": []
    },
    {
      "cell_type": "code",
      "source": [
        "## This code is creating a text generation pipeline\n",
        "text_pipeline = pipeline(\n",
        "    \"text-generation\",\n",
        "    model=model,                                                        # pre-trained language model to be used for text generation\n",
        "    tokenizer=tokenizer,                                                # tokenizer defined above\n",
        "    max_new_tokens=1024,                                                # Sets the maximum number of tokens that can be generated as output\n",
        "    temperature=0,                                                      # Temperature is a hyperparameter that controls the randomness of the generated text.\n",
        "                                                                           # A temperature of 0 results in deterministic output, meaning the most likely token is always chosen.\n",
        "    top_p=0.95,                                                         # controls the diversity of the generated output\n",
        "    repetition_penalty=1.15,                                            # Repetition penalty discourages the model from repeating the same tokens in its output\n",
        "    streamer=streamer,\n",
        ")\n"
      ],
      "metadata": {
        "id": "ZYaQDkDvVvIz",
        "colab": {
          "base_uri": "https://localhost:8080/"
        },
        "outputId": "a2894e56-881e-4f71-9bf2-b459f1c953f6"
      },
      "execution_count": null,
      "outputs": [
        {
          "output_type": "stream",
          "name": "stderr",
          "text": [
            "WARNING:xformers:WARNING[XFORMERS]: xFormers can't load C++/CUDA extensions. xFormers was built for:\n",
            "    PyTorch 2.0.1+cu118 with CUDA 1108 (you have 2.1.0+cu121)\n",
            "    Python  3.10.11 (you have 3.10.12)\n",
            "  Please reinstall xformers (see https://github.com/facebookresearch/xformers#installing-xformers)\n",
            "  Memory-efficient attention, SwiGLU, sparse and more won't be available.\n",
            "  Set XFORMERS_MORE_DETAILS=1 for more details\n",
            "The model 'LlamaGPTQForCausalLM' is not supported for text-generation. Supported models are ['BartForCausalLM', 'BertLMHeadModel', 'BertGenerationDecoder', 'BigBirdForCausalLM', 'BigBirdPegasusForCausalLM', 'BioGptForCausalLM', 'BlenderbotForCausalLM', 'BlenderbotSmallForCausalLM', 'BloomForCausalLM', 'CamembertForCausalLM', 'CodeGenForCausalLM', 'CpmAntForCausalLM', 'CTRLLMHeadModel', 'Data2VecTextForCausalLM', 'ElectraForCausalLM', 'ErnieForCausalLM', 'FalconForCausalLM', 'GitForCausalLM', 'GPT2LMHeadModel', 'GPT2LMHeadModel', 'GPTBigCodeForCausalLM', 'GPTNeoForCausalLM', 'GPTNeoXForCausalLM', 'GPTNeoXJapaneseForCausalLM', 'GPTJForCausalLM', 'LlamaForCausalLM', 'MarianForCausalLM', 'MBartForCausalLM', 'MegaForCausalLM', 'MegatronBertForCausalLM', 'MusicgenForCausalLM', 'MvpForCausalLM', 'OpenLlamaForCausalLM', 'OpenAIGPTLMHeadModel', 'OPTForCausalLM', 'PegasusForCausalLM', 'PLBartForCausalLM', 'ProphetNetForCausalLM', 'QDQBertLMHeadModel', 'ReformerModelWithLMHead', 'RemBertForCausalLM', 'RobertaForCausalLM', 'RobertaPreLayerNormForCausalLM', 'RoCBertForCausalLM', 'RoFormerForCausalLM', 'RwkvForCausalLM', 'Speech2Text2ForCausalLM', 'TransfoXLLMHeadModel', 'TrOCRForCausalLM', 'XGLMForCausalLM', 'XLMWithLMHeadModel', 'XLMProphetNetForCausalLM', 'XLMRobertaForCausalLM', 'XLMRobertaXLForCausalLM', 'XLNetLMHeadModel', 'XmodForCausalLM'].\n"
          ]
        }
      ]
    },
    {
      "cell_type": "code",
      "source": [
        "# creating an instance of the HuggingFacePipeline class, for a pipeline for text generation (text_pipeline) created above\n",
        "llm = HuggingFacePipeline(pipeline=text_pipeline, model_kwargs={\"temperature\": 0})"
      ],
      "metadata": {
        "id": "s0sKzP77ZCok"
      },
      "execution_count": null,
      "outputs": []
    },
    {
      "cell_type": "code",
      "source": [
        "SYSTEM_PROMPT = \"Use the following pieces of context to answer the question at the end. If you don't know the answer, just say that you don't know, don't try to make up an answer.\"\n",
        "\n",
        "template = generate_prompt(\n",
        "    \"\"\"\n",
        "{context}\n",
        "\n",
        "Question: {question}\n",
        "\"\"\",\n",
        "    system_prompt=SYSTEM_PROMPT,\n",
        ")"
      ],
      "metadata": {
        "id": "J3RKlMe4DNMn"
      },
      "execution_count": null,
      "outputs": []
    },
    {
      "cell_type": "code",
      "source": [
        "prompt = PromptTemplate(template=template, input_variables=[\"context\", \"question\"])"
      ],
      "metadata": {
        "id": "pJpTuSEoDDEJ"
      },
      "execution_count": null,
      "outputs": []
    },
    {
      "cell_type": "code",
      "source": [
        "# This code is creating a RetrievalQA object named qa_chain using the question-answering pipeline (llm)\n",
        "qa_chain = RetrievalQA.from_chain_type(\n",
        "    llm=llm,\n",
        "    chain_type=\"stuff\",\n",
        "    retriever=db.as_retriever(search_kwargs={\"k\": 2}),\n",
        "    return_source_documents=True,\n",
        "    chain_type_kwargs={\"prompt\": prompt},\n",
        ")"
      ],
      "metadata": {
        "id": "0DC-RU6DZCIS"
      },
      "execution_count": null,
      "outputs": []
    },
    {
      "cell_type": "markdown",
      "source": [
        "## Chat with our SmartBOT"
      ],
      "metadata": {
        "id": "J7IWZ6H1ax4z"
      }
    },
    {
      "cell_type": "code",
      "source": [
        "result = qa_chain(\"hello how are you\")"
      ],
      "metadata": {
        "id": "1nvSY7aZvDKq",
        "colab": {
          "base_uri": "https://localhost:8080/"
        },
        "outputId": "2dbf621b-e6ef-4862-c72e-23a7b5a200ce"
      },
      "execution_count": null,
      "outputs": [
        {
          "output_type": "stream",
          "name": "stdout",
          "text": [
            " Hello! I'm doing well, thank you for asking. However, I would like to point out that the question is a bit ambiguous and open-ended. Could you please provide more context or clarify what you mean by \"hello how are you\"? I want to make sure I give you an accurate and helpful response.\n"
          ]
        }
      ]
    },
    {
      "cell_type": "code",
      "source": [
        "result = qa_chain(\"I have some questions, can I ask you?\")"
      ],
      "metadata": {
        "id": "KrFtfkgPvH6Q",
        "colab": {
          "base_uri": "https://localhost:8080/"
        },
        "outputId": "8ac92031-319b-4133-e5e6-542dd6913b24"
      },
      "execution_count": null,
      "outputs": [
        {
          "output_type": "stream",
          "name": "stdout",
          "text": [
            " Sure! I'll do my best to help answer your questions. What are your questions?\n"
          ]
        }
      ]
    },
    {
      "cell_type": "code",
      "source": [
        "result = qa_chain(\"What is SMP?\")"
      ],
      "metadata": {
        "id": "nKmLM4UTfVmL",
        "colab": {
          "base_uri": "https://localhost:8080/"
        },
        "outputId": "c94a6747-8376-4555-ddc5-8463bad366d1"
      },
      "execution_count": null,
      "outputs": [
        {
          "output_type": "stream",
          "name": "stdout",
          "text": [
            " Based on the given context, I can answer the following question:\n",
            "\n",
            "What is SMP?\n",
            "\n",
            "SMP stands for Student Mentor Programme, which is a program within IIT Bombay that aims to provide constructive and positive interaction, guidance, and mentorship to junior students by senior students. The primary objective of SMP is to motivate students to excel in both academic and non-academic fields and make the most of their life at IIT Bombay.\n"
          ]
        }
      ]
    },
    {
      "cell_type": "code",
      "source": [
        "result = qa_chain(\"How can I book a room in guest house?\")"
      ],
      "metadata": {
        "id": "1k96dxrgfjMr",
        "colab": {
          "base_uri": "https://localhost:8080/"
        },
        "outputId": "0a1c2b48-f61d-40e5-b1ef-07ecd2993420"
      },
      "execution_count": null,
      "outputs": [
        {
          "output_type": "stream",
          "name": "stdout",
          "text": [
            " Based on the provided information, here is the answer to your question:\n",
            "\n",
            "To book a room in the Guest House, you can obtain a booking form from the Hostel Coordinating Unit (HCU) located in the Main Building (MB). You may also email hcu.office@iitb.ac.in to request a form. Once you have filled out the form and obtained approval, take the approved form to the Hall Manager of the allotted hostel and collect the key from their office. In emergency situations, guests can stay in the hostel rooms after entry in the Guest Register kept with the security at the hostel entrance. The formalities can be completed on the next working day.\n"
          ]
        }
      ]
    },
    {
      "cell_type": "code",
      "source": [
        "result = qa_chain(\"What are the different scholarships provided at iit Bomaby?\")"
      ],
      "metadata": {
        "id": "waIck-yefydp",
        "colab": {
          "base_uri": "https://localhost:8080/"
        },
        "outputId": "a7e2166e-2e0e-442a-9455-1e33cd281c15"
      },
      "execution_count": null,
      "outputs": [
        {
          "output_type": "stream",
          "name": "stdout",
          "text": [
            " Based on the information provided, there are two types of scholarships available at IIT Bombay:\n",
            "\n",
            "1. Merit cum Means Scholarship: This scholarship is based on both merit (JEE AIR and UCEED rank for B.Tech and B.Des students respectively) and means (parental income). Students whose parents' annual gross income does not exceed Rs. 5,00,000/ are eligible to apply.\n",
            "2. IT Support Scholarship: This scholarship is a financial support scheme for economically weak students, which covers tuition fees, mess advance, and other expenses. It is offered by the Director of IIT Bombay in collaboration with generous alumni of IIT Bombay and the Dean of the ACR office. The scholarship is awarded based on academic performance, and if a student's performance is poor, the Dean may cancel the scholarship.\n",
            "\n",
            "There is also an AP Financial Aid Programme* with a 0% interest rate, offered by Tata Motors for UGs and PGs whose annual family income falls below 6.5 lakh per annum, provided the student has a CPI > 6. The student can contact the Alumni office through an online portal to apply. Documents required for application include 12th mark sheets, JEE advanced results, family income certificate, parents residential proof, and parents ID proof. The interview with the FAP committee (IIT-B Alumni) follows after the application process. Various kinds of assistance provided under this programme include tuition and mess fee, purchasing a laptop, and internship expenses. The repayment is done after placement, with a grace period of 6 months.\n"
          ]
        }
      ]
    },
    {
      "cell_type": "code",
      "source": [
        "result = qa_chain(\"How can I calculate CPI and SPI?\")"
      ],
      "metadata": {
        "id": "nq6cf8vof6wM",
        "colab": {
          "base_uri": "https://localhost:8080/"
        },
        "outputId": "eccaf885-603c-4ba7-96bc-d57f5c70143e"
      },
      "execution_count": null,
      "outputs": [
        {
          "output_type": "stream",
          "name": "stdout",
          "text": [
            " Based on the given context, I can answer the following questions:\n",
            "\n",
            "1. How to calculate SPI (Semester Performance Index):\n",
            "To calculate SPI, we need to multiply the credit points earned in each course by the grade points obtained in that course, and then divide the total credit points earned by the total credits taken.\n",
            "\n",
            "Formula: SPI = (C1 x G1 + C2 x G2 + C3 x G3 + C4 x G4) / (C1 + C2 + C3 + C4)\n",
            "\n",
            "Where:\n",
            "\n",
            "* C1, C2, C3, and C4 are the credits earned in each course.\n",
            "* G1, G2, G3, and G4 are the grade points obtained in each course.\n",
            "2. How to calculate CPI (Cumulative Performance Index):\n",
            "To calculate CPI, we need to multiply the SPI for each semester by the number of credits taken in that semester, and then divide the total CPI by the total credits taken.\n",
            "\n",
            "Formula: CPI = (SPI1 x Credits in Semester 1 + SPI2 x Credits in Semester 2 + ...) / (Total Credits)\n",
            "\n",
            "Where:\n",
            "\n",
            "* SPI1 and SPI2 are the SPI values for each semester.\n",
            "* Credits in Semester 1 and Credits in Semester 2 are the number of credits taken in each semester.\n",
            "\n",
            "Note: All semesters have equal credit weightage, so it is important to do well throughout the academic year, not just in final exams, to maintain a good CPI.\n"
          ]
        }
      ]
    },
    {
      "cell_type": "code",
      "source": [
        "result = qa_chain(\"what is Mood Indigo and what all should I need to know to attend it?\")"
      ],
      "metadata": {
        "id": "SIFTDoxzgY07",
        "colab": {
          "base_uri": "https://localhost:8080/"
        },
        "outputId": "9f23ff28-f3af-4a66-9b3a-59141239afc6"
      },
      "execution_count": null,
      "outputs": [
        {
          "output_type": "stream",
          "name": "stdout",
          "text": [
            " Based on the given context, here are the answers to your questions:\n",
            "\n",
            "1. What is Mood Indigo?\n",
            "Mood Indigo is a college festival that offers exposure, mentorship, network, funding opportunities, and wisdom to turn dreams into reality for college students.\n",
            "2. What all should I need to know to attend Mood Indigo?\n",
            "To attend Mood Indigo, you will need to have an MI number, which you can obtain by registering on the website. You will also need a college ID to participate in certain activities or competitions. The entry to the festival is free for all college students. The artist lineup for Mood Indigo 2022 has not been announced yet, but you can stay tuned to their official page for updates. After completing the registration, you should note down your unique MI number, as it will be used to identify yourself while attending the festival.\n"
          ]
        }
      ]
    },
    {
      "cell_type": "code",
      "source": [
        "result = qa_chain(\"When is Mood Indigo?\")"
      ],
      "metadata": {
        "colab": {
          "base_uri": "https://localhost:8080/"
        },
        "id": "LLa55clXvpFG",
        "outputId": "419c8c6f-7afd-41e2-c9b8-5a0ede565c68"
      },
      "execution_count": null,
      "outputs": [
        {
          "output_type": "stream",
          "name": "stdout",
          "text": [
            " Based on the information provided, Mood Indigo will be held from December 18th to December 21st, 2023.\n"
          ]
        }
      ]
    },
    {
      "cell_type": "code",
      "source": [
        "result = qa_chain(\n",
        "    \"what is Semester Excahnge?\"\n",
        ")"
      ],
      "metadata": {
        "id": "cxp167huggFb",
        "colab": {
          "base_uri": "https://localhost:8080/"
        },
        "outputId": "3876a1bf-1eb5-4d0d-c148-991735f327ec"
      },
      "execution_count": null,
      "outputs": [
        {
          "output_type": "stream",
          "name": "stdout",
          "text": [
            " Based on the provided text, I can answer the following question:\n",
            "\n",
            "What is Semester Exchange?\n",
            "\n",
            "According to the text, Semester Exchange is a program offered by IIT Bombay that allows students to study abroad at partner universities across the globe while still being a student at IIT Bombay. Students can spend up to two semesters abroad, taking courses that they would otherwise have to finish at IIT Bombay. The institute has partnerships with numerous universities, and students do not need to pay tuition fees at the foreign university. Additionally, students can explore a wide range of courses that would otherwise be inaccessible, and engaging in research projects expands their knowledge base.\n"
          ]
        }
      ]
    },
    {
      "cell_type": "code",
      "source": [
        "result = qa_chain(\"Who is GSHA and can you provide his contact?\")"
      ],
      "metadata": {
        "id": "vRuJYwSbgpij",
        "colab": {
          "base_uri": "https://localhost:8080/"
        },
        "outputId": "ad361f00-a44e-4972-dfe7-d4f64fcc090b"
      },
      "execution_count": null,
      "outputs": [
        {
          "output_type": "stream",
          "name": "stderr",
          "text": [
            "/usr/local/lib/python3.10/dist-packages/transformers/pipelines/base.py:1083: UserWarning: You seem to be using the pipelines sequentially on GPU. In order to maximize efficiency please use a dataset\n",
            "  warnings.warn(\n"
          ]
        },
        {
          "output_type": "stream",
          "name": "stdout",
          "text": [
            " Based on the provided context, GSHA stands for General Secretary of Hostel Affairs at Indian Institute of Technology Bombay (IITB). The name of the person holding this position is Pratham Kapure. His contact information is gsecha@iitb.ac.in.\n"
          ]
        }
      ]
    },
    {
      "cell_type": "code",
      "source": [
        "result = qa_chain(\"I'm hungry, Where can I get a pizza?\")"
      ],
      "metadata": {
        "id": "X8fsfAq_WQhm",
        "colab": {
          "base_uri": "https://localhost:8080/"
        },
        "outputId": "617da67d-e511-43f9-d049-e80e3dffafc5"
      },
      "execution_count": null,
      "outputs": [
        {
          "output_type": "stream",
          "name": "stdout",
          "text": [
            " Based on the information provided, there are several options for getting a pizza near IIT Bombay. Here are a few suggestions:\n",
            "\n",
            "1. Dominos: Located in SAC Parking lot, Dominos offers exotic and spicy pizzas with free delivery on campus. You can expect a cheese burst pizza in no more than 30 minutes. Phone: 1800 208 1234. Menu link: m.dominos.co.in\n",
            "2. KFC: Located in the Galleria food court, KFC is one of the many options available for eating out when on a budget. They offer a variety of menu items, including pizzas.\n",
            "3. Pizza Hut: Also located in the Galleria food court, Pizza Hut is another option for pizza lovers. They offer a range of pizza varieties and other menu items.\n",
            "4. Papa Johns: Located in the same area as KFC and Pizza Hut, Papa Johns is another popular choice for pizza. They offer a variety of pizza options and free delivery on orders above a certain amount.\n",
            "\n",
            "Please note that these options are based on the information provided and may not be comprehensive or up-to-date. It's always a good idea to check for current availability and pricing before heading out to eat.\n"
          ]
        }
      ]
    },
    {
      "cell_type": "markdown",
      "source": [
        "## References\n"
      ],
      "metadata": {
        "id": "hdyKOEdRg2hc"
      }
    },
    {
      "cell_type": "markdown",
      "source": [
        "https://huggingface.co/TheBloke/Llama-2-13B-chat-GPTQ </br>\n",
        "https://huggingface.co/hkunlp/instructor-large </br>\n",
        "https://www.mlexpert.io/prompt-engineering/private-gpt4all#create-chain\n",
        "\n"
      ],
      "metadata": {
        "id": "-UDCfeymoGbj"
      }
    }
  ]
}